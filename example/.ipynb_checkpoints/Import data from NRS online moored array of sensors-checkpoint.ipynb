{
 "cells": [
  {
   "cell_type": "code",
   "execution_count": 4,
   "id": "silent-cornell",
   "metadata": {
    "scrolled": true
   },
   "outputs": [
    {
     "data": {
      "text/html": [
       "<script>\n",
       "code_show=true; \n",
       "function code_toggle() {\n",
       " if (code_show){\n",
       " $('div.input').hide();\n",
       " } else {\n",
       " $('div.input').show();\n",
       " }\n",
       " code_show = !code_show\n",
       "} \n",
       "$( document ).ready(code_toggle);\n",
       "</script>\n"
      ],
      "text/plain": [
       "<IPython.core.display.HTML object>"
      ]
     },
     "execution_count": 4,
     "metadata": {},
     "output_type": "execute_result"
    }
   ],
   "source": [
    "from IPython.display import HTML\n",
    "\n",
    "HTML('''<script>\n",
    "code_show=true; \n",
    "function code_toggle() {\n",
    " if (code_show){\n",
    " $('div.input').hide();\n",
    " } else {\n",
    " $('div.input').show();\n",
    " }\n",
    " code_show = !code_show\n",
    "} \n",
    "$( document ).ready(code_toggle);\n",
    "</script>\n",
    "''')"
   ]
  },
  {
   "cell_type": "markdown",
   "id": "ordered-engineering",
   "metadata": {},
   "source": [
    "These report demonstrate the use of the integration with the AIMOS data from AWS.\n",
    "To see the code, consider activate the code output\n",
    "<form action=\"javascript:code_toggle()\"><input type=\"submit\" value=\"show the raw code.\">"
   ]
  },
  {
   "cell_type": "code",
   "execution_count": 10,
   "id": "pregnant-springer",
   "metadata": {},
   "outputs": [
    {
     "data": {
      "application/vnd.jupyter.widget-view+json": {
       "model_id": "178a62d4b614453d82a672f4874517ab",
       "version_major": 2,
       "version_minor": 0
      },
      "text/plain": [
       "Dropdown(description='Station:', options=('NRSDAR', 'NRSYON', 'NRSNSI', 'NRSMAI'), value='NRSDAR')"
      ]
     },
     "metadata": {},
     "output_type": "display_data"
    },
    {
     "data": {
      "application/vnd.jupyter.widget-view+json": {
       "model_id": "674019a0ee5d4a99a0473811748883e1",
       "version_major": 2,
       "version_minor": 0
      },
      "text/plain": [
       "Button(description='import data', icon='check', style=ButtonStyle(), tooltip='import data')"
      ]
     },
     "metadata": {},
     "output_type": "display_data"
    },
    {
     "name": "stdout",
     "output_type": "stream",
     "text": [
      "NRSDAR\n",
      "http://imos-data.s3-website-ap-southeast-2.amazonaws.com/?\n",
      "IMOS/ANMN/NRS/NRSDAR/aggregated_timeseries/\n",
      "ParseResult(scheme='', netloc='', path='IMOS/ANMN/NRS/NRSDAR/aggregated_timeseries/', params='', query='', fragment='')\n",
      "<bound method ResourceFactory._create_class_partial.<locals>.create_resource of s3.ServiceResource()>\n"
     ]
    }
   ],
   "source": [
    "import pandas as pd\n",
    "from ipywidgets import interact, widgets\n",
    "import boto3\n",
    "from boto3.s3.transfer import TransferConfig\n",
    "import os\n",
    "from urllib.parse import urlparse\n",
    "from botocore import UNSIGNED\n",
    "from botocore.config import Config\n",
    "\n",
    "\n",
    "def content_download(bucket,s3_path):\n",
    "    \n",
    "    #Create Session\n",
    "    session = boto3.Session()\n",
    "    \n",
    "    #Initiate S3 Resource\n",
    "    s3 = session.resource('s3', config=Config(signature_version=UNSIGNED))\n",
    "\n",
    "    # Select Your S3 Bucket\n",
    "    your_bucket = s3.Bucket(bucket)\n",
    "    print(s3.Bucket)\n",
    "    dir = os.getcwd()\n",
    "    download_path = os.path.join(dir, 'downloads', )\n",
    "\n",
    "    # Iterate All Objects in Your S3 Bucket Over the for Loop\n",
    "    for s3_object in your_bucket.objects.filter(Prefix=s3_path):\n",
    "\n",
    "        #print(s3_object)\n",
    "        #Use this statement if your files are available directly in your bucket. \n",
    "        #your_bucket.download_file(s3_object.key, filename_with_extension)\n",
    "\n",
    "        #use below three line ONLY if you have sub directories available in S3 Bucket\n",
    "        #Split the Object key and the file name.\n",
    "        #parent directories will be stored in path and Filename will be stored in the filename\n",
    "\n",
    "        path, filename = os.path.split(s3_object.key)\n",
    "\n",
    "        #Create sub directories if its not existing\n",
    "        #os.makedirs(path)\n",
    "\n",
    "        #Download the file in the sub directories or directory if its available. \n",
    "        your_bucket.download_file(s3_object.key, \"/downloads/\"+filename)\n",
    "\n",
    "def start_download(object):\n",
    "    selected_item = dropdown.value\n",
    "    print(selected_item)\n",
    "    ind = df.index.where(df['Reference'] == selected_item)\n",
    "    url = ind.dropna()[0]\n",
    "    prefix = \"prefix=\"\n",
    "    path, bucket = url.split(prefix)\n",
    "    print(path)\n",
    "    print(bucket)\n",
    "    str = bucket\n",
    "    s3_loc = urlparse(str, allow_fragments=False)\n",
    "    print(s3_loc)\n",
    "    content_download('imos-data',s3_loc.path.lstrip('/'))\n",
    "    \n",
    "source_file = 'sources.csv'\n",
    "df = pd.read_csv(source_file, delimiter=\",\",index_col=0)\n",
    "\n",
    "dropdown = widgets.Dropdown(\n",
    "    options=df.Reference,\n",
    "    description='Station:',\n",
    "    disabled=False,\n",
    ")\n",
    "\n",
    "button = widgets.Button(\n",
    "    description='import data',\n",
    "    disabled=False,\n",
    "    button_style='', # 'success', 'info', 'warning', 'danger' or ''\n",
    "    tooltip='import data',\n",
    "    icon='check' # (FontAwesome names without the `fa-` prefix)\n",
    ")\n",
    "button.on_click(start_download)\n",
    "display(dropdown)\n",
    "display(button)"
   ]
  },
  {
   "cell_type": "code",
   "execution_count": null,
   "id": "appropriate-prompt",
   "metadata": {},
   "outputs": [],
   "source": []
  }
 ],
 "metadata": {
  "kernelspec": {
   "display_name": "Python 3",
   "language": "python",
   "name": "python3"
  },
  "language_info": {
   "codemirror_mode": {
    "name": "ipython",
    "version": 3
   },
   "file_extension": ".py",
   "mimetype": "text/x-python",
   "name": "python",
   "nbconvert_exporter": "python",
   "pygments_lexer": "ipython3",
   "version": "3.7.5"
  }
 },
 "nbformat": 4,
 "nbformat_minor": 5
}
