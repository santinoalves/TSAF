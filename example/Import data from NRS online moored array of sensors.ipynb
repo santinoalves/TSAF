{
 "cells": [
  {
   "cell_type": "code",
   "execution_count": 3,
   "metadata": {
    "scrolled": true
   },
   "outputs": [
    {
     "data": {
      "text/html": [
       "<script>\n",
       "code_show=true; \n",
       "function code_toggle() {\n",
       " if (code_show){\n",
       " $('div.input').hide();\n",
       " } else {\n",
       " $('div.input').show();\n",
       " }\n",
       " code_show = !code_show\n",
       "} \n",
       "$( document ).ready(code_toggle);\n",
       "</script>\n",
       "<form action=\"javascript:code_toggle()\"><input type=\"submit\" value=\"show the raw code.\">\n"
      ],
      "text/plain": [
       "<IPython.core.display.HTML object>"
      ]
     },
     "execution_count": 3,
     "metadata": {},
     "output_type": "execute_result"
    }
   ],
   "source": [
    "from IPython.display import HTML\n",
    "\n",
    "HTML('''<script>\n",
    "code_show=true; \n",
    "function code_toggle() {\n",
    " if (code_show){\n",
    " $('div.input').hide();\n",
    " } else {\n",
    " $('div.input').show();\n",
    " }\n",
    " code_show = !code_show\n",
    "} \n",
    "$( document ).ready(code_toggle);\n",
    "</script>\n",
    "<form action=\"javascript:code_toggle()\"><input type=\"submit\" value=\"show the raw code.\">\n",
    "''')"
   ]
  },
  {
   "cell_type": "code",
   "execution_count": 1,
   "metadata": {},
   "outputs": [
    {
     "ename": "ModuleNotFoundError",
     "evalue": "No module named 'boto3'",
     "output_type": "error",
     "traceback": [
      "\u001b[0;31m---------------------------------------------------------------------------\u001b[0m",
      "\u001b[0;31mModuleNotFoundError\u001b[0m                       Traceback (most recent call last)",
      "\u001b[0;32m<ipython-input-1-3bc7e4c7648f>\u001b[0m in \u001b[0;36m<module>\u001b[0;34m\u001b[0m\n\u001b[1;32m      1\u001b[0m \u001b[0;32mimport\u001b[0m \u001b[0mpandas\u001b[0m \u001b[0;32mas\u001b[0m \u001b[0mpd\u001b[0m\u001b[0;34m\u001b[0m\u001b[0;34m\u001b[0m\u001b[0m\n\u001b[1;32m      2\u001b[0m \u001b[0;32mfrom\u001b[0m \u001b[0mipywidgets\u001b[0m \u001b[0;32mimport\u001b[0m \u001b[0minteract\u001b[0m\u001b[0;34m,\u001b[0m \u001b[0mwidgets\u001b[0m\u001b[0;34m\u001b[0m\u001b[0;34m\u001b[0m\u001b[0m\n\u001b[0;32m----> 3\u001b[0;31m \u001b[0;32mimport\u001b[0m \u001b[0mboto3\u001b[0m\u001b[0;34m\u001b[0m\u001b[0;34m\u001b[0m\u001b[0m\n\u001b[0m\u001b[1;32m      4\u001b[0m \u001b[0;32mfrom\u001b[0m \u001b[0mboto3\u001b[0m\u001b[0;34m.\u001b[0m\u001b[0ms3\u001b[0m\u001b[0;34m.\u001b[0m\u001b[0mtransfer\u001b[0m \u001b[0;32mimport\u001b[0m \u001b[0mTransferConfig\u001b[0m\u001b[0;34m\u001b[0m\u001b[0;34m\u001b[0m\u001b[0m\n\u001b[1;32m      5\u001b[0m \u001b[0;32mimport\u001b[0m \u001b[0mos\u001b[0m\u001b[0;34m\u001b[0m\u001b[0;34m\u001b[0m\u001b[0m\n",
      "\u001b[0;31mModuleNotFoundError\u001b[0m: No module named 'boto3'"
     ]
    }
   ],
   "source": [
    "import pandas as pd\n",
    "from ipywidgets import interact, widgets\n",
    "import boto3\n",
    "from boto3.s3.transfer import TransferConfig\n",
    "import os\n",
    "from urllib.parse import urlparse\n",
    "from botocore import UNSIGNED\n",
    "from botocore.config import Config\n",
    "import example.realTimeNRSNodes as nrs\n",
    "\n",
    "\n",
    "def content_download(bucket,s3_path,exception):\n",
    "    \n",
    "    #Create Session\n",
    "    session = boto3.Session()\n",
    "    \n",
    "    #Initiate S3 Resource anonimous\n",
    "    s3 = session.resource('s3', config=Config(signature_version=UNSIGNED))\n",
    "\n",
    "    # Select Your S3 Bucket\n",
    "    bucket = s3.Bucket(bucket)\n",
    "    print(s3.Bucket)\n",
    "    dir = os.getcwd()\n",
    "    download_path = os.path.join(dir, 'downloads', )\n",
    "    print(download_path)\n",
    "    # Iterate All Objects in Your S3 Bucket Over the for Loop\n",
    "    for s3_object in bucket.objects.filter(Prefix=s3_path):\n",
    "        path, filename = os.path.split(s3_object.key)\n",
    "        if exception not in filename:\n",
    "            #Create sub directories if its not existing\n",
    "            #os.makedirs(path)\n",
    "            file_name_with_path=os.path.join(download_path,filename)\n",
    "            #Download the file in the sub directories or directory if its available. \n",
    "            bucket.download_file(s3_object.key, file_name_with_path)\n",
    "            nrs.load_IMOS_ts_from_local_data(file_name_with_path)\n",
    "    print('download complete and processing complete')\n",
    "    \n",
    "\n",
    "def start_download(object):\n",
    "    selected_item = dropdown.value\n",
    "    ind = df.index.where(df['Reference'] == selected_item)\n",
    "    url = ind.dropna()[0]\n",
    "    prefix = \"prefix=\"\n",
    "    path, bucket = url.split(prefix)\n",
    "    print(path)\n",
    "    print(bucket)\n",
    "    str = bucket\n",
    "    s3_loc = urlparse(str, allow_fragments=False)\n",
    "    print(s3_loc)\n",
    "    content_download('imos-data',s3_loc.path.lstrip('/'),'velocity-aggregated-timeseries')\n",
    "    \n",
    "source_file = 'sources.csv'\n",
    "df = pd.read_csv(source_file, delimiter=\",\",index_col=0)\n",
    "\n",
    "dropdown = widgets.Dropdown(\n",
    "    options=df.Reference,\n",
    "    description='Station:',\n",
    "    disabled=False,\n",
    ")\n",
    "\n",
    "button = widgets.Button(\n",
    "    description='import data',\n",
    "    disabled=False,\n",
    "    button_style='', # 'success', 'info', 'warning', 'danger' or ''\n",
    "    tooltip='import data',\n",
    "    icon='check' # (FontAwesome names without the `fa-` prefix)\n",
    ")\n",
    "button.on_click(start_download)\n",
    "display(dropdown)\n",
    "display(button)"
   ]
  },
  {
   "cell_type": "code",
   "execution_count": null,
   "metadata": {},
   "outputs": [],
   "source": []
  },
  {
   "cell_type": "code",
   "execution_count": null,
   "metadata": {},
   "outputs": [],
   "source": []
  }
 ],
 "metadata": {
  "kernelspec": {
   "display_name": "Python 3",
   "language": "python",
   "name": "python3"
  },
  "language_info": {
   "codemirror_mode": {
    "name": "ipython",
    "version": 3
   },
   "file_extension": ".py",
   "mimetype": "text/x-python",
   "name": "python",
   "nbconvert_exporter": "python",
   "pygments_lexer": "ipython3",
   "version": "3.7.9"
  }
 },
 "nbformat": 4,
 "nbformat_minor": 5
}
